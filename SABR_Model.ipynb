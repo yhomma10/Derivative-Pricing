{
 "cells": [
  {
   "cell_type": "code",
   "execution_count": 23,
   "id": "7b2606da-0c3d-46ec-b9e0-a23774ef9fb9",
   "metadata": {
    "tags": []
   },
   "outputs": [],
   "source": [
    "import numpy as np\n",
    "import pandas as pd\n",
    "from matplotlib import pyplot as plt"
   ]
  },
  {
   "cell_type": "markdown",
   "id": "507f06d8-8aea-4aae-94b4-e3815c8ebde8",
   "metadata": {},
   "source": [
    "## SABR Model\n",
    "### Black Calibration Space"
   ]
  },
  {
   "cell_type": "code",
   "execution_count": 150,
   "id": "a18f1ccb-d327-470f-9614-1a92b9bc6796",
   "metadata": {
    "tags": []
   },
   "outputs": [
    {
     "name": "stdout",
     "output_type": "stream",
     "text": [
      "Optimal SABR Parameters: [ 0.10385496  0.98627625 -0.19737283  1.15274409]\n"
     ]
    }
   ],
   "source": [
    "import numpy as np\n",
    "from scipy.optimize import minimize\n",
    "\n",
    "def B_sabr(alpha, beta, rho, nu, F, K, T):\n",
    "    \"\"\"\n",
    "    Calculate the implied volatility using the SABR model.\n",
    "\n",
    "    Parameters:\n",
    "    - alpha: SABR parameter alpha (initial volatility)\n",
    "    - beta: SABR parameter beta (elasticity)\n",
    "    - rho: SABR parameter rho (correlation between Brownian motions)\n",
    "    - nu: SABR parameter nu (volatility of volatility)\n",
    "    - F: Forward price or spot price\n",
    "    - K: Strike price\n",
    "    - T: Time to maturity\n",
    "\n",
    "    Returns:\n",
    "    - implied_vol: Implied volatility\n",
    "    \"\"\"\n",
    "    \n",
    "    #Calculate implied volatility using Hegan approximation\n",
    "    X = np.log(F / K)\n",
    "    Z = (nu / alpha) * (F ** ((1 - beta) / 2)) * X\n",
    "    chi = np.log((np.sqrt(1 - 2 * rho * Z + Z**2) + Z - rho) / (1 - rho))\n",
    "    \n",
    "    \n",
    "    \n",
    "    #At the Money \n",
    "    if F == K:\n",
    "        \n",
    "        implied_vol = alpha / F ** (1 - beta) * (1 + ((1 - beta) ** 2 / 24 * alpha ** 2 / F ** (2 - 2 * beta) + 0.25 * rho * beta * alpha * nu / (F * (1-beta)) + (2-3*rho**2) / 24 * nu**2) * T)\n",
    "        return implied_vol\n",
    "    \n",
    "    factor1 = alpha / ((F*K)**((1-beta)/2)*(1 + (1-beta)**2/24* X **2 + (1-beta)**4/1920*X**4))\n",
    "    factor2 = 1 + ((1 - beta)**2 / 24 * (alpha**2 / ((F*K)** (1 - beta))) +\n",
    "                   (rho * beta * nu * alpha) / (4 * ((F*K) ** ((1 - beta) / 2))) +\n",
    "                   ((nu ** 2) * (2 - 3 * (rho ** 2)) / 24)) * T\n",
    "    \n",
    "    implied_vol = factor1 * Z / chi *factor2\n",
    "    \n",
    "    return implied_vol\n",
    "\n",
    "def objective_function(params, market_data):\n",
    "    \"\"\"\n",
    "    Objective function to minimize the difference between market and model implied volatilities.\n",
    "\n",
    "    Parameters:\n",
    "    - params: SABR parameters (alpha, beta, rho, nu)\n",
    "    - market_data: List of tuples (F, K, T, market_vol)\n",
    "\n",
    "    Returns:\n",
    "    - loss: Sum of squared differences between market and model implied volatilities\n",
    "    \"\"\"\n",
    "    alpha, beta, rho, nu = params\n",
    "    loss = 0\n",
    "\n",
    "    for F, K, T, market_vol in market_data:\n",
    "        model_vol = B_sabr(alpha, beta, rho, nu, F, K, T)\n",
    "        loss += (model_vol - market_vol) ** 2\n",
    "\n",
    "    return loss\n",
    "\n",
    "# Example usage:\n",
    "market_data = [\n",
    "    (100, 70, 1, 0.22),\n",
    "    (100, 80, 1, 0.17),\n",
    "    (100, 90, 1, 0.14),\n",
    "    (100, 100, 1, 0.12),\n",
    "    (100, 110, 1, 0.10),\n",
    "    (100, 120, 1, 0.13),\n",
    "    (100, 130, 1, 0.16),\n",
    "    (100, 140, 1, 0.20),\n",
    "    # Add more market data points as needed\n",
    "]\n",
    "\n",
    "initial_guess = [0.2, 0.5, 0, 0.2]  # Initial guess for SABR parameters\n",
    "result = minimize(objective_function, initial_guess, args=(market_data,))\n",
    "optimal_params = result.x\n",
    "\n",
    "print(\"Optimal SABR Parameters:\", optimal_params)\n"
   ]
  },
  {
   "cell_type": "code",
   "execution_count": 151,
   "id": "f29de65b-a4e0-4454-9970-bec8aba68bd4",
   "metadata": {
    "tags": []
   },
   "outputs": [],
   "source": [
    "vol_list_B=[]\n",
    "for i in range(10,200,10):\n",
    "    vol_list_B.append(B_sabr(optimal_params[0],optimal_params[1],optimal_params[2],optimal_params[3],100, i, 1))\n",
    "\n"
   ]
  },
  {
   "cell_type": "markdown",
   "id": "ff50c22d-f3e3-4904-b612-8e7a9f883f07",
   "metadata": {},
   "source": [
    "## Normal Calibration Space"
   ]
  },
  {
   "cell_type": "code",
   "execution_count": 166,
   "id": "532eb444-908a-42db-9829-46ec75780dd2",
   "metadata": {
    "tags": []
   },
   "outputs": [
    {
     "name": "stdout",
     "output_type": "stream",
     "text": [
      "Optimal SABR Parameters: [ 0.00227583  0.81677887 -0.46612112  0.02176505]\n"
     ]
    }
   ],
   "source": [
    "def N_sabr(alpha, beta, rho, nu, F, K, T):\n",
    "    \"\"\"\n",
    "    Calculate the implied volatility using the SABR model.\n",
    "\n",
    "    Parameters:\n",
    "    - alpha: SABR parameter alpha (initial volatility)\n",
    "    - beta: SABR parameter beta (elasticity)\n",
    "    - rho: SABR parameter rho (correlation between Brownian motions)\n",
    "    - nu: SABR parameter nu (volatility of volatility)\n",
    "    - F: Forward price or spot price\n",
    "    - K: Strike price\n",
    "    - T: Time to maturity\n",
    "\n",
    "    Returns:\n",
    "    - implied_vol: Implied volatility\n",
    "    \"\"\"\n",
    "    \n",
    "    #Calculate implied volatility using Hegan approximation\n",
    "    X = np.log(F / K)\n",
    "    Z = (nu / alpha) * (F ** ((1 - beta) / 2)) * X\n",
    "    chi = np.log((np.sqrt(1 - 2 * rho * Z + Z**2) + Z - rho) / (1 - rho))\n",
    "    \n",
    "    \n",
    "    \n",
    "    #At the Money \n",
    "    if F == K:\n",
    "        \n",
    "        implied_vol = alpha / F ** (1 - beta) * (1 + ((1 - beta) ** 2 / 24 * alpha ** 2 / F ** (2 - 2 * beta) + 0.25 * rho * beta * alpha * nu / (F * (1-beta)) + (2-3*rho**2) / 24 * nu**2) * T)\n",
    "        return implied_vol\n",
    "    \n",
    "    factor1 = (1 + (1-beta)**2 / 24 * X **2 + (1-beta)**4/1920 * X ** 4)\n",
    "    factor2 = 1 + X**2 / 24 + X ** 4 / 1920 \n",
    "    factor3 = 1 + ((-beta*(2-beta)*alpha**2) / (24*(F*K)**(1-beta)) + (rho * alpha * nu * beta)/((4*(F *K)**((1-beta)/2)))  + (2 - 3*rho**2)/24 * nu**2)*T\n",
    "    \n",
    "    implied_vol = alpha * (F * K) ** (beta/2) * factor2 / factor1 * Z / chi * factor3\n",
    "    \n",
    "    return implied_vol \n",
    "\n",
    "def objective_function_N(params, market_data):\n",
    "    \"\"\"\n",
    "    Objective function to minimize the difference between market and model implied volatilities.\n",
    "\n",
    "    Parameters:\n",
    "    - params: SABR parameters (alpha, beta, rho, nu)\n",
    "    - market_data: List of tuples (F, K, T, market_vol)\n",
    "\n",
    "    Returns:\n",
    "    - loss: Sum of squared differences between market and model implied volatilities\n",
    "    \"\"\"\n",
    "    alpha, beta, rho, nu = params\n",
    "    loss = 0\n",
    "\n",
    "    for F, K, T, market_vol in market_data:\n",
    "        model_vol = N_sabr(alpha, beta, rho, nu, F, K, T)\n",
    "        loss += (model_vol - market_vol) ** 2\n",
    "\n",
    "    return loss\n",
    "\n",
    "# Example usage:\n",
    "market_data = [\n",
    "    (100, 70, 1, 0.22),\n",
    "    (100, 80, 1, 0.17),\n",
    "    (100, 90, 1, 0.14),\n",
    "    (100, 100, 1, 0.12),\n",
    "    (100, 110, 1, 0.10),\n",
    "    (100, 120, 1, 0.13),\n",
    "    (100, 130, 1, 0.16),\n",
    "    (100, 140, 1, 0.20),\n",
    "    # Add more market data points as needed\n",
    "]\n",
    "\n",
    "initial_guess = [0.2, 0.5, 0, 0.2]  # Initial guess for SABR parameters\n",
    "bounds = ([0, None], [0, 1], [-1, 1], [0, None])\n",
    "result = minimize(objective_function_N, initial_guess, args=(market_data,), bounds = bounds)\n",
    "optimal_params_N = result.x\n",
    "\n",
    "print(\"Optimal SABR Parameters:\", optimal_params_N)\n",
    "\n"
   ]
  },
  {
   "cell_type": "code",
   "execution_count": 167,
   "id": "c2f1e54d-3a73-4f18-b333-e0659431b23e",
   "metadata": {
    "tags": []
   },
   "outputs": [],
   "source": [
    "vol_list_N=[]\n",
    "for i in range(10,200,10):\n",
    "    vol_list_N.append(N_sabr(optimal_params_N[0],optimal_params_N[1],optimal_params_N[2],optimal_params_N[3],100, i, 1))\n"
   ]
  },
  {
   "cell_type": "code",
   "execution_count": 168,
   "id": "e1bf20d4-d76a-4d36-bea5-fa0a6e5ea8b4",
   "metadata": {
    "tags": []
   },
   "outputs": [
    {
     "data": {
      "text/plain": [
       "<matplotlib.legend.Legend at 0x13f5949ff50>"
      ]
     },
     "execution_count": 168,
     "metadata": {},
     "output_type": "execute_result"
    },
    {
     "data": {
      "image/png": "[encoded data removed]",
      "text/plain": [
       "<Figure size 640x480 with 1 Axes>"
      ]
     },
     "metadata": {},
     "output_type": "display_data"
    }
   ],
   "source": [
    "plt.plot(range(10,200,10),vol_list_B,label = 'SABR_B Model')\n",
    "plt.plot(range(10,200,10),vol_list_N,label = 'SABR_N Model')\n",
    "plt.plot([90,100,110,120,130,140],[0.14,0.12,0.10,0.13,0.16,0.20],label = 'Observed',linewidth=0, marker='o')\n",
    "plt.xlabel('Strike')\n",
    "plt.ylabel('Implied Volatility')\n",
    "plt.legend()"
   ]
  },
  {
   "cell_type": "markdown",
   "id": "20f6f683-9ab2-4dc3-abc8-135444846373",
   "metadata": {},
   "source": [
    "## Shifted "
   ]
  },
  {
   "cell_type": "code",
   "execution_count": 144,
   "id": "f381642c-ce66-4e26-9d2c-ab6eeabd8682",
   "metadata": {
    "tags": []
   },
   "outputs": [
    {
     "name": "stdout",
     "output_type": "stream",
     "text": [
      "[0.7567074077633402, 0.5807152513652132, 0.4725425832588374, 0.39224187444904424, 0.32706739788269507, 0.27122128955217645, 0.22154216134080967, 0.1762368410374251, 0.1352422708341122, 0.10724571056062727, 0.11481518610724965, 0.13867059538708112, 0.16275853155790956, 0.1849758849276079, 0.2052790767375153, 0.22389411087598204, 0.2410552651373508, 0.25696351577405047, 0.2717848211589787] [29.554784625864116, 28.85344517422221, 27.46371293652999, 25.675126319885592, 23.584332395022987, 21.230166537400773, 18.62720539900665, 15.790115556246564, 12.831510239229734, 0.10724571056062727, 12.042140379281221, 15.206181951161371, 18.603914514519097, 21.98214288055274, 25.304951135843577, 28.571769602923172, 31.78841234171441, 34.96120276534849, 38.09572577370408]\n"
     ]
    }
   ],
   "source": []
  },
  {
   "cell_type": "code",
   "execution_count": null,
   "id": "f46196aa-a080-4e3c-9685-ca086a56c410",
   "metadata": {},
   "outputs": [],
   "source": []
  }
 ],
 "metadata": {
  "kernelspec": {
   "display_name": "Python 3 (ipykernel)",
   "language": "python",
   "name": "python3"
  },
  "language_info": {
   "codemirror_mode": {
    "name": "ipython",
    "version": 3
   },
   "file_extension": ".py",
   "mimetype": "text/x-python",
   "name": "python",
   "nbconvert_exporter": "python",
   "pygments_lexer": "ipython3",
   "version": "3.11.5"
  }
 },
 "nbformat": 4,
 "nbformat_minor": 5
}
