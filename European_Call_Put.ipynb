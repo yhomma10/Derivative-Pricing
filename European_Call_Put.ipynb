{
 "cells": [
  {
   "cell_type": "code",
   "execution_count": 107,
   "id": "89809766-5249-43d9-8323-fcd8db8ae22c",
   "metadata": {
    "tags": []
   },
   "outputs": [],
   "source": [
    "import numpy as np\n",
    "import pandas as pd\n",
    "import math\n",
    "from scipy.stats import norm\n",
    "import matplotlib as plt"
   ]
  },
  {
   "cell_type": "markdown",
   "id": "fcdfa512-8c2c-4846-9d13-000fb6477399",
   "metadata": {},
   "source": [
    "# European Option Pricing\n",
    "## Black-Sholes Model"
   ]
  },
  {
   "cell_type": "markdown",
   "id": "3a3d138d-6dd2-47a7-8017-5a9fbb375a27",
   "metadata": {},
   "source": [
    "$$ C = S_0N(d_1)−Ke^{−rT}N(d_2) $$\n",
    "$$ P = Ke^{−rT}N(-d_2) - S_0N(-d_1) $$\n",
    "\n",
    "Where:\n",
    "\n",
    "*   C is the call option price.\n",
    "*   $S_0$ is the current stock price.\n",
    "*   K is the option strike price.\n",
    "*   r is the risk-free interest rate.\n",
    "*   T is the time to expiration (in years).\n",
    "*   N() is the cumulative distribution function of the standard normal distribution.\n",
    "*   $ d_1 = \\frac{ln⁡(S_0K)+(r+\\sigma^2/2)T}{\\sigma\\sqrt{T}} $\n",
    "*   $ d_2 = d1−\\sigma\\sqrt{T} $\n",
    "*   $\\sigma$ is the volatility of the underlying stock."
   ]
  },
  {
   "cell_type": "code",
   "execution_count": 94,
   "id": "8c7ef4d1-7c75-4a4f-adb6-658642e17505",
   "metadata": {
    "tags": []
   },
   "outputs": [],
   "source": [
    "def BS_European(S,K,r,sigma,T):\n",
    "    d1 = (np.log(S / K) + (r + 0.5 * sigma**2) * T) / (sigma * np.sqrt(T))\n",
    "    d2 = d1 - sigma * np.sqrt(T)\n",
    "\n",
    "    call_price = S * norm.cdf(d1) - K * np.exp(-r * T) * norm.cdf(d2)\n",
    "    put_price =  K * np.exp(-r * T) * norm.cdf(-d2) - S * norm.cdf(-d1)\n",
    "    \n",
    "    index = ['European Call', 'European Put']\n",
    "    columns = ['Price']\n",
    "    \n",
    "    price = pd.DataFrame([call_price, put_price], index = index, columns=columns)\n",
    "    return price\n",
    "\n"
   ]
  },
  {
   "cell_type": "code",
   "execution_count": 95,
   "id": "481e44bc-6d3a-4780-b41c-ce0b7923f1c1",
   "metadata": {
    "tags": []
   },
   "outputs": [
    {
     "data": {
      "text/html": [
       "<div>\n",
       "<style scoped>\n",
       "    .dataframe tbody tr th:only-of-type {\n",
       "        vertical-align: middle;\n",
       "    }\n",
       "\n",
       "    .dataframe tbody tr th {\n",
       "        vertical-align: top;\n",
       "    }\n",
       "\n",
       "    .dataframe thead th {\n",
       "        text-align: right;\n",
       "    }\n",
       "</style>\n",
       "<table border=\"1\" class=\"dataframe\">\n",
       "  <thead>\n",
       "    <tr style=\"text-align: right;\">\n",
       "      <th></th>\n",
       "      <th>Price</th>\n",
       "    </tr>\n",
       "  </thead>\n",
       "  <tbody>\n",
       "    <tr>\n",
       "      <th>European Call</th>\n",
       "      <td>324.747742</td>\n",
       "    </tr>\n",
       "    <tr>\n",
       "      <th>European Put</th>\n",
       "      <td>1739.500836</td>\n",
       "    </tr>\n",
       "  </tbody>\n",
       "</table>\n",
       "</div>"
      ],
      "text/plain": [
       "                     Price\n",
       "European Call   324.747742\n",
       "European Put   1739.500836"
      ]
     },
     "execution_count": 95,
     "metadata": {},
     "output_type": "execute_result"
    }
   ],
   "source": [
    "S = 10000\n",
    "K = 12000\n",
    "r = 0.05\n",
    "sigma = 0.2\n",
    "T = 1\n",
    "\n",
    "BS_European(S,K,r,sigma,T)"
   ]
  },
  {
   "cell_type": "markdown",
   "id": "c5833f11-dc5e-4ffe-bcab-c2404d067e79",
   "metadata": {},
   "source": [
    "### Greeks\n",
    "\n",
    "#### Delta\n",
    "$\\Delta_{Call}  = N(d_1) $ \n",
    "\n",
    "$\\Delta_{Put} = -N(-d_1)$\n",
    "\n",
    "### Gamma\n",
    "$ \\Gamma = \\frac{N'(d_1)}{S\\sigma\\sqrt{T}} $\n",
    "\n",
    "### Vega\n",
    "$ \\nu = SN′(d1)T $\n",
    "\n",
    "### Theta\n",
    "$ \\Theta_{Call} = -\\frac{S\\sigma N'(d_1)}{2\\sqrt{T}} - rKe^{-rT}N(d_2)$ \n",
    "\n",
    "$ \\Theta_{Put} = -\\frac{S\\sigma N'(d_1)}{2\\sqrt{T}} + rKe^{-rT}N(-d_2)$\n",
    "\n",
    "### Rho\n",
    "$ \\rho_{Call} = KTe^{-rT}N(d_2) $\n",
    "\n",
    "$ \\rho_{Put} = -KTe^{-rT}N(-d_2) $"
   ]
  },
  {
   "cell_type": "code",
   "execution_count": 96,
   "id": "6d0969fa-c463-4d8a-8f43-de82db5a9831",
   "metadata": {
    "tags": []
   },
   "outputs": [],
   "source": [
    "def BS_Greeks(S,K,r,sigma,T) :\n",
    "    d1 = (np.log(S / K) + (r + 0.5 * sigma**2) * T) / (sigma * np.sqrt(T))\n",
    "    d2 = d1 - sigma * np.sqrt(T)\n",
    "    \n",
    "    delta_call = norm.cdf(d1)\n",
    "    delta_put = -norm.cdf(-d1)\n",
    "    \n",
    "    gamma = norm.pdf(d1) / (S * sigma * np.sqrt(T))\n",
    "    \n",
    "    vega = S * norm.pdf(d1) * T\n",
    "    \n",
    "    theta_call = (-S * sigma * norm.pdf(d1)) / (2 * np.sqrt(T)) - r * K * np.exp(-r * T) * norm.cdf(d2)\n",
    "    theta_put = (-S * sigma * norm.pdf(d1)) / (2 * np.sqrt(T)) + r * K * np.exp(-r * T) * norm.cdf(-d2)\n",
    "    \n",
    "    rho_call = K * T * np.exp(-r * T) * norm.cdf(d2) \n",
    "    rho_put = -K * T * np.exp(-r * T) * norm.cdf(-d2)\n",
    "    \n",
    "    greeks_call = delta_call, gamma, vega, theta_call, rho_call\n",
    "    greeks_put = delta_put, gamma, vega, theta_put, rho_put\n",
    "    \n",
    "    columns = ['Delta', 'Gamma', 'Vega', 'Theta', 'Rho']\n",
    "    index = ['European Call', 'European Put']\n",
    "    \n",
    "    greeks_df = pd.DataFrame([greeks_call,greeks_put], columns = columns, index=index)\n",
    "    \n",
    "    return greeks_df\n"
   ]
  },
  {
   "cell_type": "code",
   "execution_count": 97,
   "id": "f685b183-c321-42f6-be90-592c2b4cfd01",
   "metadata": {
    "tags": []
   },
   "outputs": [
    {
     "data": {
      "text/html": [
       "<div>\n",
       "<style scoped>\n",
       "    .dataframe tbody tr th:only-of-type {\n",
       "        vertical-align: middle;\n",
       "    }\n",
       "\n",
       "    .dataframe tbody tr th {\n",
       "        vertical-align: top;\n",
       "    }\n",
       "\n",
       "    .dataframe thead th {\n",
       "        text-align: right;\n",
       "    }\n",
       "</style>\n",
       "<table border=\"1\" class=\"dataframe\">\n",
       "  <thead>\n",
       "    <tr style=\"text-align: right;\">\n",
       "      <th></th>\n",
       "      <th>Delta</th>\n",
       "      <th>Gamma</th>\n",
       "      <th>Vega</th>\n",
       "      <th>Theta</th>\n",
       "      <th>Rho</th>\n",
       "    </tr>\n",
       "  </thead>\n",
       "  <tbody>\n",
       "    <tr>\n",
       "      <th>European Call</th>\n",
       "      <td>0.287192</td>\n",
       "      <td>0.00017</td>\n",
       "      <td>3407.384228</td>\n",
       "      <td>-468.096855</td>\n",
       "      <td>2547.168637</td>\n",
       "    </tr>\n",
       "    <tr>\n",
       "      <th>European Put</th>\n",
       "      <td>-0.712808</td>\n",
       "      <td>0.00017</td>\n",
       "      <td>3407.384228</td>\n",
       "      <td>102.640800</td>\n",
       "      <td>-8867.584457</td>\n",
       "    </tr>\n",
       "  </tbody>\n",
       "</table>\n",
       "</div>"
      ],
      "text/plain": [
       "                  Delta    Gamma         Vega       Theta          Rho\n",
       "European Call  0.287192  0.00017  3407.384228 -468.096855  2547.168637\n",
       "European Put  -0.712808  0.00017  3407.384228  102.640800 -8867.584457"
      ]
     },
     "execution_count": 97,
     "metadata": {},
     "output_type": "execute_result"
    }
   ],
   "source": [
    "BS_Greeks(S,K,r,sigma,T)"
   ]
  },
  {
   "cell_type": "markdown",
   "id": "83938288-72f6-4413-a28f-8cb099d2574f",
   "metadata": {},
   "source": [
    "## Monte Carlo Simulation"
   ]
  },
  {
   "cell_type": "code",
   "execution_count": 98,
   "id": "accf551e-525d-4103-9605-825c8f576954",
   "metadata": {
    "tags": []
   },
   "outputs": [],
   "source": [
    "import numba"
   ]
  },
  {
   "cell_type": "code",
   "execution_count": 103,
   "id": "f6396395-f666-4aef-8600-71f6308247ab",
   "metadata": {
    "tags": []
   },
   "outputs": [],
   "source": [
    "def MS_European(S,K,r,sigma,T,num_simulations=10000000):\n",
    "    \n",
    "    z = np.random.standard_normal(size=num_simulations)\n",
    "    \n",
    "    price_path = S * np.exp((r - 0.5 * sigma**2)* T + sigma * np.sqrt(T) * z)\n",
    "    \n",
    "    call_price = np.mean(np.maximum(price_path - K, 0)) * np.exp(-r * T)\n",
    "    put_price = np.mean(np.maximum(K - price_path, 0)) * np.exp(-r * T)\n",
    "   \n",
    "    index = ['European Call', 'European Put']\n",
    "    columns = ['Price']\n",
    "    \n",
    "    price = pd.DataFrame([call_price, put_price], index = index, columns=columns)\n",
    "    return price"
   ]
  },
  {
   "cell_type": "code",
   "execution_count": 104,
   "id": "1ced7edb-d1fa-4452-b150-68ee9e6baba1",
   "metadata": {
    "tags": []
   },
   "outputs": [
    {
     "data": {
      "text/html": [
       "<div>\n",
       "<style scoped>\n",
       "    .dataframe tbody tr th:only-of-type {\n",
       "        vertical-align: middle;\n",
       "    }\n",
       "\n",
       "    .dataframe tbody tr th {\n",
       "        vertical-align: top;\n",
       "    }\n",
       "\n",
       "    .dataframe thead th {\n",
       "        text-align: right;\n",
       "    }\n",
       "</style>\n",
       "<table border=\"1\" class=\"dataframe\">\n",
       "  <thead>\n",
       "    <tr style=\"text-align: right;\">\n",
       "      <th></th>\n",
       "      <th>Price</th>\n",
       "    </tr>\n",
       "  </thead>\n",
       "  <tbody>\n",
       "    <tr>\n",
       "      <th>European Call</th>\n",
       "      <td>325.317831</td>\n",
       "    </tr>\n",
       "    <tr>\n",
       "      <th>European Put</th>\n",
       "      <td>1739.034118</td>\n",
       "    </tr>\n",
       "  </tbody>\n",
       "</table>\n",
       "</div>"
      ],
      "text/plain": [
       "                     Price\n",
       "European Call   325.317831\n",
       "European Put   1739.034118"
      ]
     },
     "execution_count": 104,
     "metadata": {},
     "output_type": "execute_result"
    }
   ],
   "source": [
    "MS_European(S,K,r,sigma,T,num_simulations=10000000)"
   ]
  },
  {
   "cell_type": "markdown",
   "id": "79d481b9-7e7e-46dd-8383-c3e590ecd709",
   "metadata": {
    "tags": []
   },
   "source": [
    "## Finite Differece Method\n",
    "### Explicit Finite Difference Method"
   ]
  },
  {
   "cell_type": "code",
   "execution_count": null,
   "id": "8041b386-bbb0-4d11-930d-e021386de333",
   "metadata": {},
   "outputs": [],
   "source": []
  },
  {
   "cell_type": "markdown",
   "id": "21346346-f3a4-4c2d-a235-80ed2ab98cdd",
   "metadata": {},
   "source": [
    "### Implicit Finite Difference Method"
   ]
  },
  {
   "cell_type": "markdown",
   "id": "7f50475c-a4a3-46ea-b77c-5bcf1eb60fd4",
   "metadata": {},
   "source": [
    "### \n"
   ]
  },
  {
   "cell_type": "code",
   "execution_count": null,
   "id": "242bc04d-9cbb-4385-b807-f03f356fe78e",
   "metadata": {
    "tags": []
   },
   "outputs": [],
   "source": [
    "\n",
    "\n"
   ]
  },
  {
   "cell_type": "code",
   "execution_count": null,
   "id": "5dec41b0-89b9-4f79-8cbe-0e99a4587429",
   "metadata": {},
   "outputs": [],
   "source": []
  }
 ],
 "metadata": {
  "kernelspec": {
   "display_name": "Python 3 (ipykernel)",
   "language": "python",
   "name": "python3"
  },
  "language_info": {
   "codemirror_mode": {
    "name": "ipython",
    "version": 3
   },
   "file_extension": ".py",
   "mimetype": "text/x-python",
   "name": "python",
   "nbconvert_exporter": "python",
   "pygments_lexer": "ipython3",
   "version": "3.11.5"
  }
 },
 "nbformat": 4,
 "nbformat_minor": 5
}
